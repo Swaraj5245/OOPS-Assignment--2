{
 "cells": [
  {
   "cell_type": "markdown",
   "metadata": {},
   "source": [
    "### Q1. What is Abstraction in OOps? Explain with an example."
   ]
  },
  {
   "cell_type": "markdown",
   "metadata": {},
   "source": [
    "Abstraction is a core part of a OOPS,it is used to simplify the complex tasks. In this we can define function's in the Abstraction class & can easily call it in any class using the concept of inheritance.\n",
    "for creating a Abstraction class we use Python build-in module **abc** and simply add *@abc.abstractclass* at the top of the function and then we can simply call that whole function in its derived class by it's name.\n",
    "\n",
    "**Example :**"
   ]
  },
  {
   "cell_type": "code",
   "execution_count": 2,
   "metadata": {},
   "outputs": [],
   "source": [
    "import abc\n",
    "class base:\n",
    "    @abc.abstractmethod\n",
    "    def info1(self):\n",
    "        pass\n",
    "    \n",
    "    @abc.abstractmethod\n",
    "    def info2(self):\n",
    "        pass\n",
    "    \n",
    "class derived(base):\n",
    "    def info1(self):\n",
    "        return super().info1()\n",
    "    \n",
    "    def info2(self):\n",
    "        return super().info2()"
   ]
  },
  {
   "cell_type": "markdown",
   "metadata": {},
   "source": [
    "### Q2. Differentiate between Abstraction and Encapsulation. Explain with an example."
   ]
  },
  {
   "cell_type": "markdown",
   "metadata": {},
   "source": [
    "**Abstraction** is used to make complex task easier by not doing same thing's again and again while **Encapsulation** is used to Hide the instances of the class.\n",
    "\n",
    "**Example :**"
   ]
  },
  {
   "cell_type": "code",
   "execution_count": 5,
   "metadata": {},
   "outputs": [
    {
     "data": {
      "text/plain": [
       "'Name :Swaraj Account Balance :2000'"
      ]
     },
     "execution_count": 5,
     "metadata": {},
     "output_type": "execute_result"
    }
   ],
   "source": [
    "#Example of Abstraction :\n",
    "import abc\n",
    "class base1:\n",
    "    @abc.abstractmethod\n",
    "    def info1(self):\n",
    "        pass\n",
    "    \n",
    "    @abc.abstractmethod\n",
    "    def info2(self):\n",
    "        pass\n",
    "    \n",
    "class derived1(base):\n",
    "    def info1(self):\n",
    "        return super().info1()\n",
    "    \n",
    "    def info2(self):\n",
    "        return super().info2()\n",
    "\n",
    "#Example of Encapsulation :\n",
    "class bank:\n",
    "    def __init__(self):\n",
    "        self.__name=\"Swaraj\"  #Here we created a private instance\n",
    "        self.__balance=2000   #Heare also we creatd a private instance\n",
    "    \n",
    "    def get_info(self):\n",
    "        return f\"Name :{self.__name} Account Balance :{self.__balance}\"\n",
    "\n",
    "obj=bank()\n",
    "obj.get_info()"
   ]
  },
  {
   "cell_type": "markdown",
   "metadata": {},
   "source": [
    "### Q3. What is abc module in python? Why is it used?"
   ]
  },
  {
   "cell_type": "markdown",
   "metadata": {},
   "source": [
    "In python **abc** module is a build-in module and it is used to create a Abstraction class."
   ]
  },
  {
   "cell_type": "markdown",
   "metadata": {},
   "source": [
    "### Q4. How can we achieve data abstraction?"
   ]
  },
  {
   "cell_type": "markdown",
   "metadata": {},
   "source": [
    "In programing we can achive data abstraction by hinding the complex instances or sensitive information and providing the simple interfaces."
   ]
  },
  {
   "cell_type": "markdown",
   "metadata": {},
   "source": [
    "### Q5. Can we create an instance of an abstract class? Explain your answer."
   ]
  },
  {
   "cell_type": "markdown",
   "metadata": {},
   "source": [
    "we can not create a instance of a abstract class. if we try to create a instance of a abstract class & accessing its methods then it will directly through *TypeError*.  \n",
    "we can create its instances of its subclasses and access its attributes and methods"
   ]
  }
 ],
 "metadata": {
  "kernelspec": {
   "display_name": "Python 3",
   "language": "python",
   "name": "python3"
  },
  "language_info": {
   "codemirror_mode": {
    "name": "ipython",
    "version": 3
   },
   "file_extension": ".py",
   "mimetype": "text/x-python",
   "name": "python",
   "nbconvert_exporter": "python",
   "pygments_lexer": "ipython3",
   "version": "3.11.6"
  }
 },
 "nbformat": 4,
 "nbformat_minor": 2
}
